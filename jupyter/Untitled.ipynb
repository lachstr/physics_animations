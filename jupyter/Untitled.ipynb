{
 "cells": [
  {
   "cell_type": "code",
   "execution_count": 10,
   "metadata": {},
   "outputs": [
    {
     "data": {
      "text/plain": [
       "[<matplotlib.lines.Line2D at 0x7f2606635eb0>]"
      ]
     },
     "execution_count": 10,
     "metadata": {},
     "output_type": "execute_result"
    },
    {
     "data": {
      "image/png": "[encoded data removed]",
      "text/plain": [
       "<Figure size 432x288 with 1 Axes>"
      ]
     },
     "metadata": {
      "needs_background": "light"
     },
     "output_type": "display_data"
    }
   ],
   "source": [
    "import numpy as np\n",
    "\n",
    "x_range = np.linspace(1.1, 120, 100)\n",
    "\n",
    "def f(x):\n",
    "    from numpy import log\n",
    "    return 0.5 + log(1/x)\n",
    "\n",
    "import matplotlib.pyplot as plt\n",
    "\n",
    "plt.xlim([1, 120])\n",
    "plt.plot(x_range, f(x_range), '.')"
   ]
  },
  {
   "cell_type": "code",
   "execution_count": 1,
   "metadata": {},
   "outputs": [
    {
     "data": {
      "text/plain": [
       "[<matplotlib.lines.Line2D at 0x7f88203aaa90>]"
      ]
     },
     "execution_count": 1,
     "metadata": {},
     "output_type": "execute_result"
    },
    {
     "data": {
      "image/png": "[encoded data removed]",
      "text/plain": [
       "<Figure size 432x288 with 1 Axes>"
      ]
     },
     "metadata": {
      "needs_background": "light"
     },
     "output_type": "display_data"
    }
   ],
   "source": [
    "def pr(plane_size):\n",
    "    prob = 1/(plane_size-1)\n",
    "    \n",
    "    for n in range(2, plane_size):\n",
    "        prob *= (1 + 1/(plane_size+1-n))\n",
    "    \n",
    "    return prob\n",
    "\n",
    "import numpy as np\n",
    "\n",
    "plane_sizes = np.arange(5, 100, 1)\n",
    "\n",
    "import matplotlib.pyplot as plt\n",
    "\n",
    "probs = []\n",
    "for x in plane_sizes:\n",
    "    probs.append(1 - pr(x))\n",
    "    \n",
    "from math import e\n",
    "\n",
    "def alt_soln(plane_size):\n",
    "    return (plane_size/2-1)/((plane_size-1))\n",
    "\n",
    "    \n",
    "    \n",
    "plt.plot(plane_sizes, probs)\n",
    "plt.plot(plane_sizes, alt_soln(plane_sizes))\n",
    "\n"
   ]
  },
  {
   "cell_type": "markdown",
   "metadata": {},
   "source": [
    "Let X be the event that the last passenger sits in their own seat\n",
    "\n",
    "for a plane of size T\n",
    "\n",
    "probability that the first passenger "
   ]
  },
  {
   "cell_type": "markdown",
   "metadata": {},
   "source": [
    "    prob = 1/(plane_size-1)\n",
    "\n",
    "(1 + 1/(plane_size+1-n))\n",
    "\n",
    "$$\\frac{1}{T-1}\\prod_{n=2}^{T} (\\frac{T+2-n}{T+1-n})$$"
   ]
  },
  {
   "cell_type": "markdown",
   "metadata": {},
   "source": [
    "Let $X$ be the event that the last passenger sits in their own seat, $\\Omega = \\{{T, F}\\}$\n",
    "\n",
    "\n",
    "(plane_size/2-1)/((plane_size-1))\n",
    "\n",
    "\n",
    "For a plane of size 2:\n",
    "\n",
    "P(X=T) = 0\n",
    "\n",
    "For a plane of size 3:\n",
    "\n",
    "P(X=T) = (1/2)*(2)\n",
    "\n",
    "For a plane of size 4:\n",
    "\n",
    "P(X=T) = (1)/(3)\n",
    "\n",
    "For a plane of size 5:\n",
    "\n",
    "P(X=T) = (3/2)(4)\n"
   ]
  },
  {
   "cell_type": "markdown",
   "metadata": {},
   "source": [
    " T/(2(T-1)\n",
    " \n",
    " P(X^c) = \n",
    " \n",
    " \n",
    "For a plane of size 2:\n",
    "\n",
    "P(X=T) = 1 = \n",
    "\n",
    "For a plane of size 3:\n",
    "\n",
    "P(X=T) = 3/4\n",
    "\n",
    "For a plane of size 4:\n",
    "\n",
    "P(X=T) = 4/6 = \n",
    "\n",
    "For a plane of size 5:\n",
    "\n",
    "P(X=T) = 5/8 = \n",
    "\n",
    "For a plane of size 6:\n",
    "\n",
    "P(X=T) = 6/10\n",
    "\n",
    "...\n",
    "\n",
    "For a plane of size S:\n",
    "\n",
    "P(X=T) = S/2*(S-1)"
   ]
  }
 ],
 "metadata": {
  "kernelspec": {
   "display_name": "Python 3",
   "language": "python",
   "name": "python3"
  },
  "language_info": {
   "codemirror_mode": {
    "name": "ipython",
    "version": 3
   },
   "file_extension": ".py",
   "mimetype": "text/x-python",
   "name": "python",
   "nbconvert_exporter": "python",
   "pygments_lexer": "ipython3",
   "version": "3.8.2"
  }
 },
 "nbformat": 4,
 "nbformat_minor": 2
}
