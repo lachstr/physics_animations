{
 "cells": [
  {
   "cell_type": "markdown",
   "metadata": {},
   "source": [
    "# Question 4"
   ]
  },
  {
   "cell_type": "markdown",
   "metadata": {},
   "source": [
    "### (a) Standard Enthalpy of Formation\n",
    "\n",
    "Let the Standard Enthalpy of Formation be denoted as $Δ_fH^$. $Δ_fH^⦵$ for a given substance is the change in enthalpy during the formation of 1 mole of that substance from its constituent elements, with all substances in their standard states. The $⦵$ symbol indicidates the values were measured at $100.0$kPa and a given temperature $T$, usually $25°C = 298K$.\n",
    "\n",
    "Standard states are defined as follows;\n",
    "\n",
    "- Gas: The hypothetical state it would have given it obeys the ideal gas equation at $100.0$ kPa. \n",
    "- Liquid: Pure and under a pressure of $100.0$ kPa.\n",
    "- Solid: Pure and under a pressure of $100.0$ kPa.\n",
    " - If the solid is an element, then it's standard state is when it is most stable at $100.0$ kPa.\n"
   ]
  },
  {
   "cell_type": "markdown",
   "metadata": {},
   "source": [
    "![Img](/../../../university/PHYC20012/ass1-1-b-2.jpg)"
   ]
  }
 ],
 "metadata": {
  "kernelspec": {
   "display_name": "Python 3",
   "language": "python",
   "name": "python3"
  },
  "language_info": {
   "codemirror_mode": {
    "name": "ipython",
    "version": 3
   },
   "file_extension": ".py",
   "mimetype": "text/x-python",
   "name": "python",
   "nbconvert_exporter": "python",
   "pygments_lexer": "ipython3",
   "version": "3.8.2"
  }
 },
 "nbformat": 4,
 "nbformat_minor": 2
}
