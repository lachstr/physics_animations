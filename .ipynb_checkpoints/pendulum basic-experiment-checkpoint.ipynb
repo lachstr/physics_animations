{
 "cells": [
  {
   "cell_type": "code",
   "execution_count": null,
   "metadata": {},
   "outputs": [],
   "source": [
    "from matplotlib import pyplot as plt\n",
    "from matplotlib import animation\n",
    "from numpy import sin, cos, pi\n",
    "from scipy.integrate import odeint\n",
    "from IPython.display import HTML\n",
    "\n",
    "\n",
    "def simple_pendulum_ode(conditions, t, g=9.8, ℓ = 0.1):\n",
    "    # state of θ and ω is in the conditions list\n",
    "    θ, ω = conditions\n",
    "    \n",
    "    dydt = [ω, -g/ℓ*np.sin(θ)]\n",
    "    return dydt\n",
    "\n",
    "θ_inital = pi/2 - 0.1\n",
    "ω_inital = 0.0\n",
    "\n",
    "t_list = np.linspace(0, 1, 300)\n",
    "\n",
    "solutions = odeint(simple_pendulum_ode, [θ_inital, ω_inital], t_list)\n",
    "# odeint solves for θ and ω over the interval in t_list, it pases conditions = [θ_inital, ω_inital] \n",
    "# for the first call of simple_pendulum_ode().\n",
    "\n",
    "θ_solution_list = [i[0] for i in solutions]\n",
    "\n",
    "x_0 = 0\n",
    "y_0 = 5\n",
    "ℓ = 0.1\n",
    "\n",
    "y_list = [y_0 - ℓ*cos(θ) for θ in θ_solution_list]\n",
    "x_list = [ℓ*sin(θ) for θ in θ_solution_list]\n",
    "\n",
    "fig = plt.figure()\n",
    "plt.grid()\n",
    "\n",
    "\n",
    "lines = []\n",
    "\n",
    "for i in range(len(solutions)):\n",
    "    line = plt.plot([x_0, x_list[i]], [y_0, y_list[i]], color='k', lw=1)\n",
    "    \n",
    "    lines.append(line)\n",
    "\n",
    "\n",
    "ani = animation.ArtistAnimation(fig, lines, interval=30)\n",
    "\n",
    "HTML(ani.to_html5_video())"
   ]
  }
 ],
 "metadata": {
  "kernelspec": {
   "display_name": "Python 3",
   "language": "python",
   "name": "python3"
  },
  "language_info": {
   "codemirror_mode": {
    "name": "ipython",
    "version": 3
   },
   "file_extension": ".py",
   "mimetype": "text/x-python",
   "name": "python",
   "nbconvert_exporter": "python",
   "pygments_lexer": "ipython3",
   "version": "3.7.3"
  }
 },
 "nbformat": 4,
 "nbformat_minor": 2
}
