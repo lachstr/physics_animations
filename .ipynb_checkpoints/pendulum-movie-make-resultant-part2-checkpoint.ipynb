{
 "cells": [
  {
   "cell_type": "code",
   "execution_count": 2,
   "metadata": {},
   "outputs": [],
   "source": [
    "from matplotlib import pyplot as plt\n",
    "from matplotlib import animation\n",
    "from numpy import sin, cos, pi\n",
    "import numpy as np\n",
    "from scipy.integrate import odeint\n",
    "from IPython.display import HTML\n",
    "\n",
    "import matplotlib as mpl\n",
    "\n",
    "mpl.rcParams['figure.dpi'] = 240\n",
    "\n",
    "from matplotlib import rc\n",
    "\n",
    "rc('text', usetex=True)"
   ]
  },
  {
   "cell_type": "code",
   "execution_count": 3,
   "metadata": {},
   "outputs": [],
   "source": [
    "def simple_pendulum_ode(conditions, t, ℓ=20, g=980):\n",
    "    # state of θ and ω is in the conditions list\n",
    "    θ, ω = conditions\n",
    "    \n",
    "    dydt = [ω, -g/ℓ*sin(θ)]\n",
    "    return dydt\n",
    "\n",
    "def real_pendulum_ode(conditions, t, ℓ=20, g=980):\n",
    "    # state of θ and ω is in the conditions list\n",
    "    θ, ω = conditions\n",
    "    \n",
    "    dydt = [ω, -g/ℓ*θ]\n",
    "    return dydt\n",
    "\n",
    "pendulum_ode = simple_pendulum_ode"
   ]
  },
  {
   "cell_type": "code",
   "execution_count": 4,
   "metadata": {},
   "outputs": [],
   "source": [
    "def plot_generator(θ_inital, ω_inital, time_factor, ℓ, pendulum_ode=pendulum_ode):\n",
    "\n",
    "    t_list = np.linspace(0, 0.4*3, 60)\n",
    "\n",
    "    solutions = odeint(pendulum_ode, [θ_inital, ω_inital], t_list)\n",
    "    # odeint solves for θ and ω over the interval in t_list, it pases conditions = [θ_inital, ω_inital] \n",
    "    # for the first call of simple_pendulum_ode().\n",
    "\n",
    "    θ_solution_list = [i[0] for i in solutions]\n",
    "\n",
    "    x_0 = 0\n",
    "    y_0 = 40\n",
    "\n",
    "    y_list = [y_0 - ℓ*cos(θ) for θ in θ_solution_list]\n",
    "    x_list = [ℓ*sin(θ) for θ in θ_solution_list]\n",
    "\n",
    "\n",
    "    lns = []\n",
    "\n",
    "    for i in range(len(solutions)):    \n",
    "        g = 9.8\n",
    "\n",
    "        θ = θ_solution_list[0]\n",
    "\n",
    "        #force_point, = plt.plot( x_list[i] -  9.8*sin(θ)*cos(θ), y_0 - v_len*ℓ*cos(θ)-9.8*sin(θ)*sin(θ),\n",
    "         #                            marker=(3, 0, 45 + θ*180/pi), markersize=5, linestyle='None', color = 'r')\n",
    "\n",
    "        line, = plt.plot([x_0, x_list[0]], [y_0, y_list[0]], color='k', lw=1)\n",
    "        \n",
    "        f_net = plt.arrow(x_list[0] , y_0 - ℓ*cos(θ),\n",
    "                             -g*sin(θ)*cos(θ), -g*sin(θ)*sin(θ),\n",
    "                           head_width = 1, color = 'purple')\n",
    "         \n",
    "            \n",
    "\n",
    "        #force_pointer, = plt.plot(v_len*x_list[i] -  9.8*sin(θ)*cos(θ), y_0 - v_len*ℓ*cos(θ)-9.8*sin(θ)*sin(θ),\n",
    "         #                            marker=(3, 0, θ), markersize=5, linestyle='None', color = 'r')\n",
    "        mass, = plt.plot([x_list[0]], [y_list[0]], 'ro', color = 'royalblue')\n",
    "\n",
    "        lns.append([line, f_net, mass])\n",
    "\n",
    "    return lns"
   ]
  },
  {
   "cell_type": "code",
   "execution_count": null,
   "metadata": {},
   "outputs": [],
   "source": [
    "\n",
    "fig = plt.figure()\n",
    "ax = fig.add_subplot(111, aspect='equal', autoscale_on=False,\n",
    "                     xlim=(-50, 50), ylim=(0, 60))\n",
    "plt.grid()\n",
    "plt.xlabel('$x$-axis (cm)')\n",
    "plt.ylabel('$y$-axis (cm)')\n",
    "\n",
    "MODEL_TYPE = \"SIMPLE\"\n",
    "\n",
    "if (MODEL_TYPE) != \"SIMPLE\":\n",
    "    pendulum_ode = real_pendulum_ode\n",
    "    equation = r'$$\\frac{d^2\\theta}{dt^2} + \\frac{g}{\\ell}\\sin\\theta = 0$$'\n",
    "else:\n",
    "    ## MODEL_TYPE == \"SIMPLE\"\n",
    "    pendulum_ode = simple_pendulum_ode\n",
    "    equation = r'$$\\frac{d^2\\theta}{dt^2} + \\frac{g}{\\ell}\\theta = 0$$'\n",
    "\n",
    "\n",
    "lns = plot_generator(θ_inital = pi/2 - 0.5,\n",
    "                     ω_inital = 0.0,\n",
    "                     time_factor = 4,\n",
    "                     ℓ = 20\n",
    "                    )\n",
    "\n",
    "ani = animation.ArtistAnimation(fig, lns, interval=30)\n",
    "\n",
    "HTML(ani.to_html5_video())"
   ]
  },
  {
   "cell_type": "code",
   "execution_count": null,
   "metadata": {},
   "outputs": [],
   "source": []
  },
  {
   "cell_type": "code",
   "execution_count": 8,
   "metadata": {},
   "outputs": [],
   "source": []
  },
  {
   "cell_type": "code",
   "execution_count": null,
   "metadata": {},
   "outputs": [],
   "source": []
  }
 ],
 "metadata": {
  "kernelspec": {
   "display_name": "Python 3",
   "language": "python",
   "name": "python3"
  },
  "language_info": {
   "codemirror_mode": {
    "name": "ipython",
    "version": 3
   },
   "file_extension": ".py",
   "mimetype": "text/x-python",
   "name": "python",
   "nbconvert_exporter": "python",
   "pygments_lexer": "ipython3",
   "version": "3.8.1"
  }
 },
 "nbformat": 4,
 "nbformat_minor": 2
}
