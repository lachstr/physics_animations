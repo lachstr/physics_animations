{
 "cells": [
  {
   "cell_type": "code",
   "execution_count": 72,
   "metadata": {},
   "outputs": [],
   "source": [
    "from matplotlib import pyplot as plt\n",
    "from matplotlib import animation\n",
    "from numpy import sin, cos, pi\n",
    "import numpy as np\n",
    "from scipy.integrate import odeint\n",
    "from IPython.display import HTML\n",
    "\n",
    "import matplotlib as mpl\n",
    "\n",
    "mpl.rcParams['figure.dpi'] = 140\n",
    "\n",
    "from matplotlib import rc\n",
    "\n",
    "rc('text', usetex=True)"
   ]
  },
  {
   "cell_type": "code",
   "execution_count": null,
   "metadata": {},
   "outputs": [],
   "source": [
    "def simple_pendulum_ode(conditions, t, ℓ=20, g=980):\n",
    "    # state of θ and ω is in the conditions list\n",
    "    θ, ω = conditions\n",
    "    \n",
    "    dydt = [ω, -g/ℓ*sin(θ)]\n",
    "    return dydt\n",
    "\n",
    "θ_inital = pi/2 - 0.1\n",
    "ω_inital = 0.0\n",
    "\n",
    "t_list = np.linspace(0, 5, 1200)\n",
    "\n",
    "ℓ = 20\n",
    "\n",
    "solutions = odeint(simple_pendulum_ode, [θ_inital, ω_inital], t_list)\n",
    "# odeint solves for θ and ω over the interval in t_list, it pases conditions = [θ_inital, ω_inital] \n",
    "# for the first call of simple_pendulum_ode().\n",
    "\n",
    "θ_solution_list = [i[0] for i in solutions]\n",
    "\n",
    "x_0 = 0\n",
    "y_0 = 40\n",
    "\n",
    "y_list = [y_0 - ℓ*cos(θ) for θ in θ_solution_list]\n",
    "x_list = [ℓ*sin(θ) for θ in θ_solution_list]\n",
    "\n",
    "fig = plt.figure()\n",
    "\n",
    "\n",
    "ax = fig.add_subplot(111, aspect='equal', autoscale_on=False,\n",
    "                     xlim=(-50, 50), ylim=(0, 60))\n",
    "plt.grid()\n",
    "\n",
    "plt.title('Simple Pendulum on the Cartesian Plane')\n",
    "plt.xlabel('$x$-axis (cm)')\n",
    "plt.ylabel('$y$-axis (cm)')\n",
    "plt.text(-45.5, 41, r'$$\\frac{d^2\\theta}{dt^2} + \\frac{g}{\\ell}\\sin\\theta = 0$$', fontsize = 13)\n",
    "\n",
    "lns = []\n",
    "\n",
    "for i in range(len(solutions)):\n",
    "    \n",
    "    line, = plt.plot([x_0, x_list[i]], [y_0, y_list[i]], color='k', lw=2)\n",
    "    \n",
    "    time_text = plt.text(-41.2, 25, f'$t = {t_list[i]:.1f} s$')\n",
    "    theta_text = plt.text(-44.5, 20, f'$$\\\\|\\\\theta\\\\| = {abs(θ_solution_list[i]):.2f}$$')\n",
    "    sintheta_text = plt.text(-49, 15, f'$$\\\\|\\\\sin \\\\theta \\\\| = {abs(sin(θ_solution_list[i])):.2f}$$')\n",
    "    \n",
    "    \n",
    "    lns.append([line, time_text,theta_text,sintheta_text])\n",
    "    \n",
    "\n",
    "\n",
    "ani = animation.ArtistAnimation(fig, lns, interval=15)\n",
    "\n",
    "HTML(ani.to_html5_video())"
   ]
  },
  {
   "cell_type": "code",
   "execution_count": null,
   "metadata": {},
   "outputs": [],
   "source": []
  },
  {
   "cell_type": "code",
   "execution_count": null,
   "metadata": {},
   "outputs": [],
   "source": []
  }
 ],
 "metadata": {
  "kernelspec": {
   "display_name": "Python 3",
   "language": "python",
   "name": "python3"
  },
  "language_info": {
   "codemirror_mode": {
    "name": "ipython",
    "version": 3
   },
   "file_extension": ".py",
   "mimetype": "text/x-python",
   "name": "python",
   "nbconvert_exporter": "python",
   "pygments_lexer": "ipython3",
   "version": "3.7.3"
  }
 },
 "nbformat": 4,
 "nbformat_minor": 2
}
