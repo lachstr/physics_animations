{
 "cells": [
  {
   "cell_type": "markdown",
   "metadata": {},
   "source": [
    "Qn1 (a)\n",
    "\n",
    "|   | Case  | Condition  | $\\Delta Q$  | $\\Delta W$  | $\\Delta P $ | $\\Delta T$  |  $\\Delta V$ |  $\\Delta U$  |\n",
    "|---|---|---|---|---|---|---|---|---|\n",
    "|  1 | Isochoric  | Constant system volume  | $>0$  |   |   |   | $\\color{red}0$  |   |\n",
    "|  2 | Isobaric  |  Constant system pressure |  $>0$ |   | $\\color{red}0$   |   |   |   |\n",
    "| 3  | Isothermal  | Constant system temperature | $>0$  |   |   |  $\\color{red}0$  |   |   |\n",
    "|  4 | Adiabatic  |  No heat flow | $\\color{red}0$   |  $>0$  |   |   |   |   $>0$ |\n",
    "|  5 | Isentropic  | No change of entropy  |   |  $>0$ |   |   |   |   |"
   ]
  },
  {
   "cell_type": "markdown",
   "metadata": {},
   "source": [
    "|   | Case  | Condition  | $\\Delta Q$  | $\\Delta W$  | $\\Delta P $ | $\\Delta T$  |  $\\Delta V$ |  $\\Delta U$  |\n",
    "|---|---|---|---|---|---|---|---|---|\n",
    "|  1 | Isochoric  | Constant system volume  | $<0$  |   |   |   | $\\color{red}0$  |   |\n",
    "|  2 | Isobaric  |  Constant system pressure |  $<0$ |   | $\\color{red}0$   |   |   |   |\n",
    "| 3  | Isothermal  | Constant system temperature | $<0$  |   |   |  $\\color{red}0$  |   |   |\n",
    "|  4 | Adiabatic  |  No heat flow | $\\color{red}0$   |  $<0$  |   |   |   |   $<0$ |\n",
    "|  5 | Isentropic  | No change of entropy  |   |  $<0$ |   |   |   |   |"
   ]
  },
  {
   "cell_type": "markdown",
   "metadata": {},
   "source": [
    "Case 1:\n",
    "\n",
    "$$\\Delta W=-\\int_{V_i}^{V_i} P dV = 0 $$\n",
    "\n",
    "As $\\Delta W = 0  \\implies \\Delta U = \\Delta Q$\\\n",
    "Equipartition of energy gives $\\Delta U$ = $\\frac{f}{2}Nk_B\\Delta T$\\\n",
    "Ideal gas law $\\Delta P = \\frac{Nk_B\\Delta T}{V}$"
   ]
  },
  {
   "cell_type": "markdown",
   "metadata": {},
   "source": [
    "\n",
    "|   | Case  | Condition  | $\\Delta Q$  | $\\Delta W$  | $\\Delta P $ | $\\Delta T$  |  $\\Delta V$ |  $\\Delta U$  |\n",
    "|---|---|---|---|---|---|---|---|---|\n",
    "|  1 | Isochoric  | Constant system volume  | $>0$  | $0$  | $>0$  |  $>0$ | $\\color{red}0$  | $>0$  |\n",
    "|  1 | Isochoric  | Constant system volume  | $<0$  | $0$  | $<0$  |  $<0$ | $\\color{red}0$  | $<0$  |"
   ]
  },
  {
   "cell_type": "markdown",
   "metadata": {},
   "source": [
    "Case 2:\n",
    "\n",
    "$$\\Delta W=-\\int_{V_i}^{V_f} P dV =-\\int_{V_i}^{V_f} 0 dV =-0\\int_{V_i}^{V_f} dV = 0 $$\n",
    "\n",
    "As $\\Delta W = 0  \\implies \\Delta U = \\Delta Q$\\\n",
    "Equipartition of energy gives $\\Delta U$ = $\\frac{f}{2}Nk_B\\Delta T$\\\n",
    "Ideal gas law $\\Delta V = \\frac{Nk_B\\Delta T}{P}$"
   ]
  },
  {
   "cell_type": "markdown",
   "metadata": {},
   "source": [
    "|   | Case  | Condition  | $\\Delta Q$  | $\\Delta W$  | $\\Delta P $ | $\\Delta T$  |  $\\Delta V$ |  $\\Delta U$  |\n",
    "|---|---|---|---|---|---|---|---|---|\n",
    "|  2 | Isobaric  |  Constant system pressure |  $>0$ |  $0$ | $\\color{red}0$   |  $>0$  | $>0$   | $>0$   |\n",
    "|  2 | Isobaric  |  Constant system pressure |  $<0$ |  $0$ | $\\color{red}0$   |  $<0$  | $<0$   | $<0$   |"
   ]
  },
  {
   "cell_type": "markdown",
   "metadata": {},
   "source": [
    "Case 3:\n",
    "\n",
    "Equipartition of energy gives $\\Delta U = 0$\\\n",
    "2nd law gives $\\Delta W = -\\Delta Q$\n",
    "\n",
    "$$\\Delta W=-\\int_{V_i}^{V_f} P dV =-\\int_{V_i}^{V_f} \\frac{Nk_bT}{V} dV = -Nk_bT\\int_{V_i}^{V_f} \\frac{dV}{V} = -Nk_BT\\ln{\\frac{V_f}{V_i}} $$\n",
    "\n",
    "So $\\Delta W > 0 \\implies V_f < V_i \\implies \\Delta V < 0$\\\n",
    "Similarly;\n",
    "$\\Delta W < 0 \\implies V_f > V_i \\implies \\Delta V > 0$\n",
    "\n",
    "By the ideal gas law under constant temperature\\\n",
    "$$PV=constant$$\n",
    "So $\\Delta V < 0 \\implies \\Delta P > 0$\\\n",
    "Similarly $\\Delta V > 0 \\implies \\Delta P < 0$"
   ]
  },
  {
   "cell_type": "markdown",
   "metadata": {},
   "source": [
    "\n",
    "|   | Case  | Condition  | $\\Delta Q$  | $\\Delta W$  | $\\Delta P $ | $\\Delta T$  |  $\\Delta V$ |  $\\Delta U$  |\n",
    "|---|---|---|---|---|---|---|---|---|\n",
    "| 3  | Isothermal  | Constant system temperature | $>0$  | $<0$  |  $<0$ |  $\\color{red}0$  |  $>0$ |  $0$ |\n",
    "| 3  | Isothermal  | Constant system temperature | $<0$  | $>0$  |  $>0$ |  $\\color{red}0$  |  $<0$ |  $0$ |"
   ]
  },
  {
   "cell_type": "markdown",
   "metadata": {},
   "source": [
    "Case 4:\n",
    "\n",
    "By equipartition of energy $\\Delta U$ = $\\frac{f}{2}Nk_B\\Delta T$\n",
    "\n",
    "We know that (in quasistatic processes) $$\\Delta T = ((\\frac{P_i}{P_f})^{\\frac{-2}{f+2}} - 1)T_i$$\n",
    "\n",
    "So $\\Delta T > 0 \\implies P_f > P_i \\implies \\Delta P > 0$\\\n",
    "Similarly, $\\Delta T < 0 \\implies P_f < P_i \\implies \\Delta P < 0$\n",
    "\n",
    "We know that $$PV^\\frac{f+2}{f} = constant$$\n",
    "\n",
    "$\\Delta P > 0 \\implies \\Delta V < 0$\\\n",
    "$\\Delta P < 0 \\implies \\Delta V > 0$\n"
   ]
  },
  {
   "cell_type": "markdown",
   "metadata": {},
   "source": [
    "|   | Case  | Condition  | $\\Delta Q$  | $\\Delta W$  | $\\Delta P $ | $\\Delta T$  |  $\\Delta V$ |  $\\Delta U$  |\n",
    "|---|---|---|---|---|---|---|---|---|\n",
    "|  4 | Adiabatic  |  No heat flow | $\\color{red}0$   |  $>0$  |  $>0$ |  $>0$ | $<0$  |   $>0$ |\n",
    "|  4 | Adiabatic  |  No heat flow | $\\color{red}0$   |  $<0$  |  $<0$ |  $<0$ | $>0$  |   $<0$ |"
   ]
  },
  {
   "cell_type": "markdown",
   "metadata": {},
   "source": [
    "Case 5:\n",
    "\n",
    "3.3.2 PHYC20012 Lecture Notes by Daniel Flynn:\n",
    "\"An adiabatic process that is also quasistatic, the entropy is unchanged; such a process is called isentropic\"\n",
    "\n",
    "$$Q=TdS$$\n",
    "$\\Delta S = 0 \\implies \\Delta Q = 0$\n",
    "\n",
    "By the 2nd law;\n",
    "$\\Delta U = \\Delta W$\n",
    "\n",
    "By the equipartition of energy;\n",
    "$\\Delta U$ = $\\frac{f}{2}Nk_B\\Delta T$\n",
    "\n",
    "$$S = k_B\\ln{\\Omega}$$\n",
    "In an ideal gas\n",
    "\n",
    "$$\\Omega(U,V,N)=f(N)V^NU^{3N/2}$$\n",
    "\n",
    "$\\Delta S = 0 \\implies \\Omega_i = \\Omega_f$\\\n",
    "$V_i^N U_i^{3N/2} = V_f^N U_f^{3N/2}$\\\n",
    "$V_i/V_f = (U_f/U_i)^{N/2}$\n",
    "\n",
    "So, $\\Delta U > 0 \\implies \\Delta V < 0$\\\n",
    "$\\Delta U < 0 \\implies \\Delta V > 0$\n",
    "\n",
    "We know that in adiabatic processes $$PV^\\frac{f+2}{f} = constant$$\n",
    "\n",
    "$\\Delta V < 0 \\implies \\Delta P > 0$\\\n",
    "$\\Delta V > 0 \\implies \\Delta P < 0$"
   ]
  },
  {
   "cell_type": "markdown",
   "metadata": {},
   "source": [
    "So we can now fill out table 1:\n",
    "\n",
    "|   | Case  | Condition  | $\\Delta Q$  | $\\Delta W$  | $\\Delta P $ | $\\Delta T$  |  $\\Delta V$ |  $\\Delta U$  |\n",
    "|---|---|---|---|---|---|---|---|---|\n",
    "|  1 | Isochoric  | Constant system volume  | $>0$  | $0$  |  $>0$   |  $>0$ | $\\color{red}0$  |  $>0$ |\n",
    "|  2 | Isobaric  |  Constant system pressure |  $>0$ |  $0$ | $\\color{red}0$   |  $>0$  | $>0$   | $>0$   |\n",
    "| 3  | Isothermal  | Constant system temperature | $>0$  | $<0$  |  $<0$ |  $\\color{red}0$  |  $>0$ |  $0$ |\n",
    "|  4 | Adiabatic  |  No heat flow | $\\color{red}0$   |  $>0$  |  $>0$ |  $>0$ | $<0$  |   $>0$ |\n",
    "|  5 | Isentropic  | No change of entropy  | $0$  |  $>0$ |  $>0$ |  $>0$ |  $<0$ | $>0$  |"
   ]
  },
  {
   "cell_type": "markdown",
   "metadata": {},
   "source": [
    "So we can now fill out table 2:\n",
    "\n",
    "|   | Case  | Condition  | $\\Delta Q$  | $\\Delta W$  | $\\Delta P $ | $\\Delta T$  |  $\\Delta V$ |  $\\Delta U$  |\n",
    "|---|---|---|---|---|---|---|---|---|\n",
    "|  1 | Isochoric  | Constant system volume  | $<0$  | $0$  |  $<0$   |  $<0$ | $\\color{red}0$  |  $<0$ |\n",
    "|  2 | Isobaric  |  Constant system pressure |  $<0$ |  $0$ | $\\color{red}0$   |  $<0$  | $<0$   | $<0$   |\n",
    "| 3  | Isothermal  | Constant system temperature | $<0$  | $>0$  |  $>0$ |  $\\color{red}0$  |  $<0$ |  $0$ |\n",
    "|  4 | Adiabatic  |  No heat flow | $\\color{red}0$   |  $<0$  |  $<0$ |  $<0$ | $>0$  |   $<0$ |\n",
    "|  5 | Isentropic  | No change of entropy  | $0$  |  $<0$ |  $<0$ |  $<0$ |  $>0$ | $<0$  |"
   ]
  },
  {
   "cell_type": "markdown",
   "metadata": {},
   "source": [
    "- Qn 1 (b)(i) \n",
    "An isentropic process is one which entropy is unchanged, it is both adiabatic and quasistatic. An adabatic process which occurs such that the pressure is not uniform throughout the system will not be a quasistatic one. While most gaseous processes are approximately quasistatic, there are exceptions. On example is, very fast compression that creates internal disequilibrium of pressure. By \"very\" fast, it is meant that the compressing object moves at a speed greater than most of the gas molecules. Another example is free expansion into a vacuum. Both processes are adiabatic but result in entropy increases. All isentropic processes are adiabatic, not all adiabatic processes are isentropic.\n"
   ]
  },
  {
   "cell_type": "code",
   "execution_count": null,
   "metadata": {},
   "outputs": [],
   "source": []
  }
 ],
 "metadata": {
  "kernelspec": {
   "display_name": "Python 3",
   "language": "python",
   "name": "python3"
  },
  "language_info": {
   "codemirror_mode": {
    "name": "ipython",
    "version": 3
   },
   "file_extension": ".py",
   "mimetype": "text/x-python",
   "name": "python",
   "nbconvert_exporter": "python",
   "pygments_lexer": "ipython3",
   "version": "3.8.2"
  }
 },
 "nbformat": 4,
 "nbformat_minor": 2
}
